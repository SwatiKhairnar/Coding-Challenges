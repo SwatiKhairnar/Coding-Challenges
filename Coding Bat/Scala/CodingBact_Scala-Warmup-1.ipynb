{
 "cells": [
  {
   "cell_type": "raw",
   "metadata": {},
   "source": [
    "The parameter weekday is true if it is a weekday, and the parameter vacation is true if we are on vacation. We sleep in if it is not a weekday or we're on vacation. Return true if we sleep in.\n",
    "\n",
    "\n",
    "sleepIn(false, false) → true\n",
    "sleepIn(true, false) → false\n",
    "sleepIn(false, true) → true"
   ]
  },
  {
   "cell_type": "code",
   "execution_count": 3,
   "metadata": {},
   "outputs": [
    {
     "data": {
      "text/plain": [
       "defined \u001b[32mfunction \u001b[36msleepIn\u001b[0m"
      ]
     },
     "metadata": {},
     "output_type": "display_data"
    }
   ],
   "source": [
    "def sleepIn(weekday:Boolean,vacation:Boolean)={\n",
    "    (weekday != true || vacation == true)\n",
    "}"
   ]
  },
  {
   "cell_type": "code",
   "execution_count": 7,
   "metadata": {},
   "outputs": [
    {
     "data": {
      "text/plain": [
       "\u001b[36mres6_0\u001b[0m: \u001b[32mBoolean\u001b[0m = true\n",
       "\u001b[36mres6_1\u001b[0m: \u001b[32mBoolean\u001b[0m = false\n",
       "\u001b[36mres6_2\u001b[0m: \u001b[32mBoolean\u001b[0m = true"
      ]
     },
     "metadata": {},
     "output_type": "display_data"
    }
   ],
   "source": [
    "sleepIn(false,false)\n",
    "sleepIn(true,false)\n",
    "sleepIn(false,true)"
   ]
  },
  {
   "cell_type": "raw",
   "metadata": {},
   "source": [
    "We have two monkeys, a and b, and the parameters aSmile and bSmile indicate if each is smiling. We are in trouble if they are both smiling or if neither of them is smiling. Return true if we are in trouble.\n",
    "\n",
    "\n",
    "monkeyTrouble(true, true) → true\n",
    "monkeyTrouble(false, false) → true\n",
    "monkeyTrouble(true, false) → false"
   ]
  },
  {
   "cell_type": "code",
   "execution_count": 8,
   "metadata": {},
   "outputs": [
    {
     "data": {
      "text/plain": [
       "defined \u001b[32mfunction \u001b[36mmonkeyTrouble\u001b[0m"
      ]
     },
     "metadata": {},
     "output_type": "display_data"
    }
   ],
   "source": [
    "def monkeyTrouble(aSmile:Boolean, bSmile:Boolean)={\n",
    "    if((aSmile == true && bSmile==true) || (aSmile == false && bSmile == false)) true else false\n",
    "}"
   ]
  },
  {
   "cell_type": "code",
   "execution_count": 9,
   "metadata": {},
   "outputs": [
    {
     "data": {
      "text/plain": [
       "\u001b[36mres8_0\u001b[0m: \u001b[32mBoolean\u001b[0m = true\n",
       "\u001b[36mres8_1\u001b[0m: \u001b[32mBoolean\u001b[0m = true\n",
       "\u001b[36mres8_2\u001b[0m: \u001b[32mBoolean\u001b[0m = false"
      ]
     },
     "metadata": {},
     "output_type": "display_data"
    }
   ],
   "source": [
    "monkeyTrouble(true,true)\n",
    "monkeyTrouble(false,false)\n",
    "monkeyTrouble(true,false)"
   ]
  },
  {
   "cell_type": "raw",
   "metadata": {},
   "source": [
    "Given two int values, return their sum. Unless the two values are the same, then return double their sum.\n",
    "\n",
    "sumDouble(1, 2) → 3\n",
    "sumDouble(3, 2) → 5\n",
    "sumDouble(2, 2) → 8"
   ]
  },
  {
   "cell_type": "code",
   "execution_count": 10,
   "metadata": {},
   "outputs": [
    {
     "data": {
      "text/plain": [
       "defined \u001b[32mfunction \u001b[36msumDouble\u001b[0m"
      ]
     },
     "metadata": {},
     "output_type": "display_data"
    }
   ],
   "source": [
    "def sumDouble(n1:Int, n2:Int)={\n",
    "    if(n1 != n2) n1+n2 else (n1*2)+(n2*2) \n",
    "}"
   ]
  },
  {
   "cell_type": "code",
   "execution_count": 11,
   "metadata": {},
   "outputs": [
    {
     "data": {
      "text/plain": [
       "\u001b[36mres10_0\u001b[0m: \u001b[32mInt\u001b[0m = \u001b[32m3\u001b[0m\n",
       "\u001b[36mres10_1\u001b[0m: \u001b[32mInt\u001b[0m = \u001b[32m5\u001b[0m\n",
       "\u001b[36mres10_2\u001b[0m: \u001b[32mInt\u001b[0m = \u001b[32m8\u001b[0m"
      ]
     },
     "metadata": {},
     "output_type": "display_data"
    }
   ],
   "source": [
    "sumDouble(1,2)\n",
    "sumDouble(3,2)\n",
    "sumDouble(2,2)"
   ]
  },
  {
   "cell_type": "raw",
   "metadata": {},
   "source": [
    "Given an int n, return the absolute difference between n and 21, except return double the absolute difference if n is over 21.\n",
    "\n",
    "\n",
    "diff21(19) → 2\n",
    "diff21(10) → 11\n",
    "diff21(21) → 0"
   ]
  },
  {
   "cell_type": "code",
   "execution_count": 12,
   "metadata": {},
   "outputs": [
    {
     "data": {
      "text/plain": [
       "defined \u001b[32mfunction \u001b[36mdiff21\u001b[0m"
      ]
     },
     "metadata": {},
     "output_type": "display_data"
    }
   ],
   "source": [
    "def diff21(n:Int)={\n",
    "    if(n-21<0) math.abs(n-21) else 0\n",
    "}"
   ]
  },
  {
   "cell_type": "code",
   "execution_count": 13,
   "metadata": {},
   "outputs": [
    {
     "data": {
      "text/plain": [
       "\u001b[36mres12_0\u001b[0m: \u001b[32mInt\u001b[0m = \u001b[32m2\u001b[0m\n",
       "\u001b[36mres12_1\u001b[0m: \u001b[32mInt\u001b[0m = \u001b[32m11\u001b[0m\n",
       "\u001b[36mres12_2\u001b[0m: \u001b[32mInt\u001b[0m = \u001b[32m0\u001b[0m"
      ]
     },
     "metadata": {},
     "output_type": "display_data"
    }
   ],
   "source": [
    "diff21(19)\n",
    "diff21(10)\n",
    "diff21(21)"
   ]
  },
  {
   "cell_type": "raw",
   "metadata": {},
   "source": [
    "We have a loud talking parrot. The \"hour\" parameter is the current hour time in the range 0..23. We are in trouble if the parrot is talking and the hour is before 7 or after 20. Return true if we are in trouble.\n",
    "\n",
    "\n",
    "parrotTrouble(true, 6) → true\n",
    "parrotTrouble(true, 7) → false\n",
    "parrotTrouble(false, 6) → false\n"
   ]
  },
  {
   "cell_type": "code",
   "execution_count": 15,
   "metadata": {},
   "outputs": [
    {
     "data": {
      "text/plain": [
       "defined \u001b[32mfunction \u001b[36mparrotTrouble\u001b[0m"
      ]
     },
     "metadata": {},
     "output_type": "display_data"
    }
   ],
   "source": [
    "def parrotTrouble(talking:Boolean,hour:Int)={\n",
    "    if(talking == true && (hour < 7 || hour > 20)) true else false\n",
    "}"
   ]
  },
  {
   "cell_type": "code",
   "execution_count": 16,
   "metadata": {},
   "outputs": [
    {
     "data": {
      "text/plain": [
       "\u001b[36mres14_0\u001b[0m: \u001b[32mBoolean\u001b[0m = true\n",
       "\u001b[36mres14_1\u001b[0m: \u001b[32mBoolean\u001b[0m = false\n",
       "\u001b[36mres14_2\u001b[0m: \u001b[32mBoolean\u001b[0m = false"
      ]
     },
     "metadata": {},
     "output_type": "display_data"
    }
   ],
   "source": [
    "parrotTrouble(true, 6)\n",
    "parrotTrouble(true, 7)\n",
    "parrotTrouble(false, 6)"
   ]
  },
  {
   "cell_type": "raw",
   "metadata": {},
   "source": [
    "Given 2 ints, a and b, return true if one if them is 10 or if their sum is 10.\n",
    "\n",
    "\n",
    "makes10(9, 10) → true\n",
    "makes10(9, 9) → false\n",
    "makes10(1, 9) → true\n"
   ]
  },
  {
   "cell_type": "code",
   "execution_count": 17,
   "metadata": {},
   "outputs": [
    {
     "data": {
      "text/plain": [
       "defined \u001b[32mfunction \u001b[36mmakes10\u001b[0m"
      ]
     },
     "metadata": {},
     "output_type": "display_data"
    }
   ],
   "source": [
    "def makes10(n1:Int, n2:Int)={\n",
    "    if(n1 == 10 || n2 == 10 || (n1+n2) == 10) true  else false\n",
    "}"
   ]
  },
  {
   "cell_type": "code",
   "execution_count": 19,
   "metadata": {},
   "outputs": [
    {
     "data": {
      "text/plain": [
       "\u001b[36mres17_0\u001b[0m: \u001b[32mBoolean\u001b[0m = true\n",
       "\u001b[36mres17_1\u001b[0m: \u001b[32mBoolean\u001b[0m = false\n",
       "\u001b[36mres17_2\u001b[0m: \u001b[32mBoolean\u001b[0m = true"
      ]
     },
     "metadata": {},
     "output_type": "display_data"
    }
   ],
   "source": [
    "makes10(9,10)\n",
    "makes10(9,9)\n",
    "makes10(1,9)"
   ]
  },
  {
   "cell_type": "raw",
   "metadata": {},
   "source": [
    "Given an int n, return true if it is within 10 of 100 or 200. Note: Math.abs(num) computes the absolute value of a number.\n",
    "\n",
    "\n",
    "nearHundred(93) → true\n",
    "nearHundred(90) → true\n",
    "nearHundred(89) → false"
   ]
  },
  {
   "cell_type": "code",
   "execution_count": 22,
   "metadata": {},
   "outputs": [
    {
     "data": {
      "text/plain": [
       "defined \u001b[32mfunction \u001b[36mnearHundred\u001b[0m"
      ]
     },
     "metadata": {},
     "output_type": "display_data"
    }
   ],
   "source": [
    "def nearHundred(n:Int)={\n",
    "    if(math.abs(100-n) <= 10 || math.abs(200-n) <= 10) true else false\n",
    "}"
   ]
  },
  {
   "cell_type": "code",
   "execution_count": 23,
   "metadata": {},
   "outputs": [
    {
     "data": {
      "text/plain": [
       "\u001b[36mres21_0\u001b[0m: \u001b[32mBoolean\u001b[0m = true\n",
       "\u001b[36mres21_1\u001b[0m: \u001b[32mBoolean\u001b[0m = true\n",
       "\u001b[36mres21_2\u001b[0m: \u001b[32mBoolean\u001b[0m = false"
      ]
     },
     "metadata": {},
     "output_type": "display_data"
    }
   ],
   "source": [
    "nearHundred(93)\n",
    "nearHundred(90)\n",
    "nearHundred(89)"
   ]
  },
  {
   "cell_type": "raw",
   "metadata": {},
   "source": [
    "Given 2 int values, return true if one is negative and one is positive. Except if the parameter \"negative\" is true, then return true only if both are negative.\n",
    "\n",
    "\n",
    "posNeg(1, -1, false) → true\n",
    "posNeg(-1, 1, false) → true\n",
    "posNeg(-4, -5, true) → true"
   ]
  },
  {
   "cell_type": "code",
   "execution_count": 24,
   "metadata": {},
   "outputs": [
    {
     "data": {
      "text/plain": [
       "defined \u001b[32mfunction \u001b[36mposNeg\u001b[0m"
      ]
     },
     "metadata": {},
     "output_type": "display_data"
    }
   ],
   "source": [
    "def posNeg(a:Int, b:Int, negative:Boolean)={\n",
    "    if(negative == true) {\n",
    "        if((a < 0 && b < 0) || (a > 0 && b > 0)) true else false\n",
    "    }\n",
    "    else{\n",
    "        if((a < 0 && b > 0) || (a > 0 && b < 0)) true else false\n",
    "    }\n",
    "}"
   ]
  },
  {
   "cell_type": "code",
   "execution_count": 25,
   "metadata": {},
   "outputs": [
    {
     "data": {
      "text/plain": [
       "\u001b[36mres23_0\u001b[0m: \u001b[32mBoolean\u001b[0m = true\n",
       "\u001b[36mres23_1\u001b[0m: \u001b[32mBoolean\u001b[0m = true\n",
       "\u001b[36mres23_2\u001b[0m: \u001b[32mBoolean\u001b[0m = true"
      ]
     },
     "metadata": {},
     "output_type": "display_data"
    }
   ],
   "source": [
    "posNeg(1,-1,false)\n",
    "posNeg(-1,1,false)\n",
    "posNeg(-4,-5,true)"
   ]
  },
  {
   "cell_type": "raw",
   "metadata": {},
   "source": [
    "Given a string, return a new string where \"not \" has been added to the front. However, if the string already begins with \"not\", return the string unchanged. Note: use .equals() to compare 2 strings.\n",
    "\n",
    "\n",
    "notString(\"candy\") → \"not candy\"\n",
    "notString(\"x\") → \"not x\"\n",
    "notString(\"not bad\") → \"not bad\""
   ]
  },
  {
   "cell_type": "code",
   "execution_count": 27,
   "metadata": {},
   "outputs": [
    {
     "data": {
      "text/plain": [
       "defined \u001b[32mfunction \u001b[36mnotString\u001b[0m"
      ]
     },
     "metadata": {},
     "output_type": "display_data"
    }
   ],
   "source": [
    "def notString(str:String)={\n",
    "    if(str.length > 3 && str.substring(0,3) == \"not\") str else\n",
    "    s\"not $str\"\n",
    "}"
   ]
  },
  {
   "cell_type": "code",
   "execution_count": 28,
   "metadata": {},
   "outputs": [
    {
     "data": {
      "text/plain": [
       "\u001b[36mres26_0\u001b[0m: \u001b[32mString\u001b[0m = \u001b[32m\"not candy\"\u001b[0m\n",
       "\u001b[36mres26_1\u001b[0m: \u001b[32mString\u001b[0m = \u001b[32m\"not x\"\u001b[0m\n",
       "\u001b[36mres26_2\u001b[0m: \u001b[32mString\u001b[0m = \u001b[32m\"not bad\"\u001b[0m"
      ]
     },
     "metadata": {},
     "output_type": "display_data"
    }
   ],
   "source": [
    "notString(\"candy\")\n",
    "notString(\"x\")\n",
    "notString(\"not bad\")"
   ]
  },
  {
   "cell_type": "raw",
   "metadata": {},
   "source": [
    "Given a non-empty string and an int n, return a new string where the char at index n has been removed. The value of n will be a valid index of a char in the original string (i.e. n will be in the range 0..str.length()-1 inclusive).\n",
    "\n",
    "\n",
    "missingChar(\"kitten\", 1) → \"ktten\"\n",
    "missingChar(\"kitten\", 0) → \"itten\"\n",
    "missingChar(\"kitten\", 4) → \"kittn\""
   ]
  },
  {
   "cell_type": "code",
   "execution_count": 37,
   "metadata": {},
   "outputs": [
    {
     "data": {
      "text/plain": [
       "defined \u001b[32mfunction \u001b[36mmissingChar\u001b[0m"
      ]
     },
     "metadata": {},
     "output_type": "display_data"
    }
   ],
   "source": [
    "def missingChar(str:String, n:Int)={\n",
    "    if((0 to str.length).contains(n)){\n",
    "       (for(c <- str if(c != str(n)))yield c).mkString\n",
    "    }\n",
    "    else\n",
    "    str\n",
    "}"
   ]
  },
  {
   "cell_type": "code",
   "execution_count": 38,
   "metadata": {},
   "outputs": [
    {
     "data": {
      "text/plain": [
       "\u001b[36mres35_0\u001b[0m: \u001b[32mString\u001b[0m = \u001b[32m\"ktten\"\u001b[0m\n",
       "\u001b[36mres35_1\u001b[0m: \u001b[32mString\u001b[0m = \u001b[32m\"itten\"\u001b[0m\n",
       "\u001b[36mres35_2\u001b[0m: \u001b[32mString\u001b[0m = \u001b[32m\"kittn\"\u001b[0m\n",
       "\u001b[36mres35_3\u001b[0m: \u001b[32mString\u001b[0m = \u001b[32m\"kitten\"\u001b[0m"
      ]
     },
     "metadata": {},
     "output_type": "display_data"
    }
   ],
   "source": [
    "missingChar(\"kitten\", 1)\n",
    "missingChar(\"kitten\", 0)\n",
    "missingChar(\"kitten\", 4)\n",
    "missingChar(\"kitten\", 7)"
   ]
  },
  {
   "cell_type": "raw",
   "metadata": {},
   "source": [
    "Given a string, return a new string where the first and last chars have been exchanged.\n",
    "\n",
    "frontBack(\"code\") → \"eodc\"\n",
    "frontBack(\"a\") → \"a\"\n",
    "frontBack(\"ab\") → \"ba\""
   ]
  },
  {
   "cell_type": "code",
   "execution_count": 47,
   "metadata": {},
   "outputs": [
    {
     "data": {
      "text/plain": [
       "defined \u001b[32mfunction \u001b[36mfrontback\u001b[0m"
      ]
     },
     "metadata": {},
     "output_type": "display_data"
    }
   ],
   "source": [
    "def frontback(str:String)={\n",
    "    if(str.length <= 1) str else str(str.length-1)+str.substring(1,str.length-1)+str(0)\n",
    "}"
   ]
  },
  {
   "cell_type": "code",
   "execution_count": 48,
   "metadata": {},
   "outputs": [
    {
     "data": {
      "text/plain": [
       "\u001b[36mres42_0\u001b[0m: \u001b[32mString\u001b[0m = \u001b[32m\"eodc\"\u001b[0m\n",
       "\u001b[36mres42_1\u001b[0m: \u001b[32mString\u001b[0m = \u001b[32m\"a\"\u001b[0m\n",
       "\u001b[36mres42_2\u001b[0m: \u001b[32mString\u001b[0m = \u001b[32m\"ba\"\u001b[0m"
      ]
     },
     "metadata": {},
     "output_type": "display_data"
    }
   ],
   "source": [
    "frontback(\"code\")\n",
    "frontback(\"a\")\n",
    "frontback(\"ab\")"
   ]
  },
  {
   "cell_type": "raw",
   "metadata": {},
   "source": [
    "Given a string, we'll say that the front is the first 3 chars of the string. If the string length is less than 3, the front is whatever is there. Return a new string which is 3 copies of the front.\n",
    "\n",
    "\n",
    "front3(\"Java\") → \"JavJavJav\"\n",
    "front3(\"Chocolate\") → \"ChoChoCho\"\n",
    "front3(\"abc\") → \"abcabcabc\""
   ]
  },
  {
   "cell_type": "code",
   "execution_count": 49,
   "metadata": {},
   "outputs": [
    {
     "data": {
      "text/plain": [
       "defined \u001b[32mfunction \u001b[36mfront3\u001b[0m"
      ]
     },
     "metadata": {},
     "output_type": "display_data"
    }
   ],
   "source": [
    "def front3(str:String)={\n",
    "    val maxl = if(str.length < 3)str.length else 3\n",
    "    str.substring(0,maxl) * 3\n",
    "}"
   ]
  },
  {
   "cell_type": "code",
   "execution_count": 50,
   "metadata": {},
   "outputs": [
    {
     "data": {
      "text/plain": [
       "\u001b[36mres44_0\u001b[0m: \u001b[32mString\u001b[0m = \u001b[32m\"JavJavJav\"\u001b[0m\n",
       "\u001b[36mres44_1\u001b[0m: \u001b[32mString\u001b[0m = \u001b[32m\"ChoChoCho\"\u001b[0m\n",
       "\u001b[36mres44_2\u001b[0m: \u001b[32mString\u001b[0m = \u001b[32m\"abcabcabc\"\u001b[0m"
      ]
     },
     "metadata": {},
     "output_type": "display_data"
    }
   ],
   "source": [
    "front3(\"Java\")\n",
    "front3(\"Chocolate\")\n",
    "front3(\"abc\")"
   ]
  },
  {
   "cell_type": "raw",
   "metadata": {},
   "source": [
    "Given a string, take the last char and return a new string with the last char added at the front and back, so \"cat\" yields \"tcatt\". The original string will be length 1 or more.\n",
    "\n",
    "\n",
    "backAround(\"cat\") → \"tcatt\"\n",
    "backAround(\"Hello\") → \"oHelloo\"\n",
    "backAround(\"a\") → \"aaa\""
   ]
  },
  {
   "cell_type": "code",
   "execution_count": 51,
   "metadata": {},
   "outputs": [
    {
     "data": {
      "text/plain": [
       "defined \u001b[32mfunction \u001b[36mbackAround\u001b[0m"
      ]
     },
     "metadata": {},
     "output_type": "display_data"
    }
   ],
   "source": [
    "def backAround(str:String)={\n",
    "    if(str.length > 1) str(str.length -1) + str + str(str.length -1) else str*3\n",
    "}"
   ]
  },
  {
   "cell_type": "code",
   "execution_count": 52,
   "metadata": {},
   "outputs": [
    {
     "data": {
      "text/plain": [
       "\u001b[36mres46_0\u001b[0m: \u001b[32mString\u001b[0m = \u001b[32m\"tcatt\"\u001b[0m\n",
       "\u001b[36mres46_1\u001b[0m: \u001b[32mString\u001b[0m = \u001b[32m\"oHelloo\"\u001b[0m\n",
       "\u001b[36mres46_2\u001b[0m: \u001b[32mString\u001b[0m = \u001b[32m\"aaa\"\u001b[0m"
      ]
     },
     "metadata": {},
     "output_type": "display_data"
    }
   ],
   "source": [
    "backAround(\"cat\")\n",
    "backAround(\"Hello\")\n",
    "backAround(\"a\")"
   ]
  },
  {
   "cell_type": "raw",
   "metadata": {},
   "source": [
    "Return true if the given non-negative number is a multiple of 3 or a multiple of 5. Use the % \"mod\" operator -- see Introduction to Mod\n",
    "\n",
    "\n",
    "or35(3) → true\n",
    "or35(10) → true\n",
    "or35(8) → false"
   ]
  },
  {
   "cell_type": "code",
   "execution_count": 53,
   "metadata": {},
   "outputs": [
    {
     "data": {
      "text/plain": [
       "defined \u001b[32mfunction \u001b[36mor35\u001b[0m"
      ]
     },
     "metadata": {},
     "output_type": "display_data"
    }
   ],
   "source": [
    "def or35(n:Int)={\n",
    "    if(n % 3 == 0 || n % 5 == 0)true else false\n",
    "}"
   ]
  },
  {
   "cell_type": "code",
   "execution_count": 54,
   "metadata": {},
   "outputs": [
    {
     "data": {
      "text/plain": [
       "\u001b[36mres48_0\u001b[0m: \u001b[32mBoolean\u001b[0m = true\n",
       "\u001b[36mres48_1\u001b[0m: \u001b[32mBoolean\u001b[0m = true\n",
       "\u001b[36mres48_2\u001b[0m: \u001b[32mBoolean\u001b[0m = false"
      ]
     },
     "metadata": {},
     "output_type": "display_data"
    }
   ],
   "source": [
    "or35(3)\n",
    "or35(10)\n",
    "or35(8)"
   ]
  },
  {
   "cell_type": "raw",
   "metadata": {},
   "source": [
    "Given a string, take the first 2 chars and return the string with the 2 chars added at both the front and back, so \"kitten\" yields\"kikittenki\". If the string length is less than 2, use whatever chars are there.\n",
    "\n",
    "\n",
    "front22(\"kitten\") → \"kikittenki\"\n",
    "front22(\"Ha\") → \"HaHaHa\"\n",
    "front22(\"abc\") → \"ababcab\""
   ]
  },
  {
   "cell_type": "code",
   "execution_count": 55,
   "metadata": {},
   "outputs": [
    {
     "data": {
      "text/plain": [
       "defined \u001b[32mfunction \u001b[36mfront22\u001b[0m"
      ]
     },
     "metadata": {},
     "output_type": "display_data"
    }
   ],
   "source": [
    "def front22(str:String)={\n",
    "    if(str.length > 2) str.substring(0,2)+str+str.substring(0,2) else str*3\n",
    "}"
   ]
  },
  {
   "cell_type": "code",
   "execution_count": 56,
   "metadata": {},
   "outputs": [
    {
     "data": {
      "text/plain": [
       "\u001b[36mres50_0\u001b[0m: \u001b[32mString\u001b[0m = \u001b[32m\"kikittenki\"\u001b[0m\n",
       "\u001b[36mres50_1\u001b[0m: \u001b[32mString\u001b[0m = \u001b[32m\"hahaha\"\u001b[0m\n",
       "\u001b[36mres50_2\u001b[0m: \u001b[32mString\u001b[0m = \u001b[32m\"ababcab\"\u001b[0m"
      ]
     },
     "metadata": {},
     "output_type": "display_data"
    }
   ],
   "source": [
    "front22(\"kitten\")\n",
    "front22(\"ha\")\n",
    "front22(\"abc\")"
   ]
  },
  {
   "cell_type": "raw",
   "metadata": {},
   "source": [
    "Given a string, return true if the string starts with \"hi\" and false otherwise.\n",
    "\n",
    "\n",
    "startHi(\"hi there\") → true\n",
    "startHi(\"hi\") → true\n",
    "startHi(\"hello hi\") → false"
   ]
  },
  {
   "cell_type": "code",
   "execution_count": 57,
   "metadata": {},
   "outputs": [
    {
     "data": {
      "text/plain": [
       "defined \u001b[32mfunction \u001b[36mstartHi\u001b[0m"
      ]
     },
     "metadata": {},
     "output_type": "display_data"
    }
   ],
   "source": [
    "def startHi(str:String)={\n",
    "    str.substring(0,2) == \"hi\"\n",
    "}"
   ]
  },
  {
   "cell_type": "code",
   "execution_count": 58,
   "metadata": {},
   "outputs": [
    {
     "data": {
      "text/plain": [
       "\u001b[36mres52_0\u001b[0m: \u001b[32mBoolean\u001b[0m = true\n",
       "\u001b[36mres52_1\u001b[0m: \u001b[32mBoolean\u001b[0m = true\n",
       "\u001b[36mres52_2\u001b[0m: \u001b[32mBoolean\u001b[0m = false"
      ]
     },
     "metadata": {},
     "output_type": "display_data"
    }
   ],
   "source": [
    "startHi(\"hi there\")\n",
    "startHi(\"hi\")\n",
    "startHi(\"hello Hi\")"
   ]
  },
  {
   "cell_type": "raw",
   "metadata": {},
   "source": [
    "Given two temperatures, return true if one is less than 0 and the other is greater than 100.\n",
    "\n",
    "\n",
    "icyHot(120, -1) → true\n",
    "icyHot(-1, 120) → true\n",
    "icyHot(2, 120) → false"
   ]
  },
  {
   "cell_type": "code",
   "execution_count": 60,
   "metadata": {},
   "outputs": [
    {
     "data": {
      "text/plain": [
       "defined \u001b[32mfunction \u001b[36micyHot\u001b[0m"
      ]
     },
     "metadata": {},
     "output_type": "display_data"
    }
   ],
   "source": [
    "def icyHot(temperature1:Int, temperature2:Int)={\n",
    "    (temperature1 < 0 && temperature2 > 100) || (temperature1 > 100 && temperature2 < 0)\n",
    "}"
   ]
  },
  {
   "cell_type": "code",
   "execution_count": 61,
   "metadata": {},
   "outputs": [
    {
     "data": {
      "text/plain": [
       "\u001b[36mres54_0\u001b[0m: \u001b[32mBoolean\u001b[0m = true\n",
       "\u001b[36mres54_1\u001b[0m: \u001b[32mBoolean\u001b[0m = true\n",
       "\u001b[36mres54_2\u001b[0m: \u001b[32mBoolean\u001b[0m = false"
      ]
     },
     "metadata": {},
     "output_type": "display_data"
    }
   ],
   "source": [
    "icyHot(120, -1)\n",
    "icyHot(-1,120)\n",
    "icyHot(2,120)"
   ]
  },
  {
   "cell_type": "raw",
   "metadata": {},
   "source": [
    "Given 2 int values, return true if either of them is in the range 10..20 inclusive.\n",
    "\n",
    "\n",
    "in1020(12, 99) → true\n",
    "in1020(21, 12) → true\n",
    "in1020(8, 99) → false"
   ]
  },
  {
   "cell_type": "code",
   "execution_count": 62,
   "metadata": {},
   "outputs": [
    {
     "data": {
      "text/plain": [
       "defined \u001b[32mfunction \u001b[36min1020\u001b[0m"
      ]
     },
     "metadata": {},
     "output_type": "display_data"
    }
   ],
   "source": [
    "def in1020(n1:Int, n2:Int)={\n",
    "    (10 to 20).contains(n1) || (10 to 20).contains(n2)\n",
    "}"
   ]
  },
  {
   "cell_type": "code",
   "execution_count": 63,
   "metadata": {},
   "outputs": [
    {
     "data": {
      "text/plain": [
       "\u001b[36mres56_0\u001b[0m: \u001b[32mBoolean\u001b[0m = true\n",
       "\u001b[36mres56_1\u001b[0m: \u001b[32mBoolean\u001b[0m = true\n",
       "\u001b[36mres56_2\u001b[0m: \u001b[32mBoolean\u001b[0m = false"
      ]
     },
     "metadata": {},
     "output_type": "display_data"
    }
   ],
   "source": [
    "in1020(12,99)\n",
    "in1020(21,12)\n",
    "in1020(8,99)"
   ]
  },
  {
   "cell_type": "raw",
   "metadata": {},
   "source": [
    "We'll say that a number is \"teen\" if it is in the range 13..19 inclusive. Given 3 int values, return true if 1 or more of them are teen.\n",
    "\n",
    "\n",
    "hasTeen(13, 20, 10) → true\n",
    "hasTeen(20, 19, 10) → true\n",
    "hasTeen(20, 10, 13) → true"
   ]
  },
  {
   "cell_type": "code",
   "execution_count": 64,
   "metadata": {},
   "outputs": [
    {
     "data": {
      "text/plain": [
       "defined \u001b[32mfunction \u001b[36mhasTeen\u001b[0m"
      ]
     },
     "metadata": {},
     "output_type": "display_data"
    }
   ],
   "source": [
    "def hasTeen(n1:Int, n2:Int, n3:Int)={\n",
    "    (13 to 19).contains(n1) || (13 to 19).contains(n2) || (13 to 19).contains(n3)\n",
    "}"
   ]
  },
  {
   "cell_type": "code",
   "execution_count": 65,
   "metadata": {},
   "outputs": [
    {
     "data": {
      "text/plain": [
       "\u001b[36mres58_0\u001b[0m: \u001b[32mBoolean\u001b[0m = true\n",
       "\u001b[36mres58_1\u001b[0m: \u001b[32mBoolean\u001b[0m = true\n",
       "\u001b[36mres58_2\u001b[0m: \u001b[32mBoolean\u001b[0m = true"
      ]
     },
     "metadata": {},
     "output_type": "display_data"
    }
   ],
   "source": [
    "hasTeen(13, 20, 10)\n",
    "hasTeen(20, 19, 10)\n",
    "hasTeen(20, 10, 13)"
   ]
  },
  {
   "cell_type": "raw",
   "metadata": {},
   "source": [
    "We'll say that a number is \"teen\" if it is in the range 13..19 inclusive. Given 2 int values, return true if one or the other is teen, but not both.\n",
    "\n",
    "\n",
    "loneTeen(13, 99) → true\n",
    "loneTeen(21, 19) → true\n",
    "loneTeen(13, 13) → false"
   ]
  },
  {
   "cell_type": "code",
   "execution_count": 66,
   "metadata": {},
   "outputs": [
    {
     "data": {
      "text/plain": [
       "defined \u001b[32mfunction \u001b[36mloneTeen\u001b[0m"
      ]
     },
     "metadata": {},
     "output_type": "display_data"
    }
   ],
   "source": [
    "def loneTeen(n1:Int, n2:Int)={\n",
    "    if(!((13 to 19).contains(n1) && (13 to 19).contains(n2))) false\n",
    "    else if((13 to 19).contains(n1) || (13 to 19).contains(n2)) true\n",
    "    else false\n",
    "}"
   ]
  },
  {
   "cell_type": "code",
   "execution_count": 67,
   "metadata": {},
   "outputs": [
    {
     "data": {
      "text/plain": [
       "\u001b[36mres60_0\u001b[0m: \u001b[32mBoolean\u001b[0m = true\n",
       "\u001b[36mres60_1\u001b[0m: \u001b[32mBoolean\u001b[0m = true\n",
       "\u001b[36mres60_2\u001b[0m: \u001b[32mBoolean\u001b[0m = false"
      ]
     },
     "metadata": {},
     "output_type": "display_data"
    }
   ],
   "source": [
    "loneTeen(13, 99)\n",
    "loneTeen(21, 19)\n",
    "loneTeen(13, 13)"
   ]
  },
  {
   "cell_type": "raw",
   "metadata": {},
   "source": [
    "Given a string, if the string \"del\" appears starting at index 1, return a string where that \"del\" has been deleted. Otherwise, return the string unchanged.\n",
    "\n",
    "\n",
    "delDel(\"adelbc\") → \"abc\"\n",
    "delDel(\"adelHello\") → \"aHello\"\n",
    "delDel(\"adedbc\") → \"adedbc\""
   ]
  },
  {
   "cell_type": "code",
   "execution_count": 68,
   "metadata": {},
   "outputs": [
    {
     "data": {
      "text/plain": [
       "defined \u001b[32mfunction \u001b[36mdelDel\u001b[0m"
      ]
     },
     "metadata": {},
     "output_type": "display_data"
    }
   ],
   "source": [
    "def delDel(str:String)={\n",
    "    if(str.substring(1,4) == \"del\") str(0) + str.substring(4) else str\n",
    "}"
   ]
  },
  {
   "cell_type": "code",
   "execution_count": 69,
   "metadata": {},
   "outputs": [
    {
     "data": {
      "text/plain": [
       "\u001b[36mres62_0\u001b[0m: \u001b[32mString\u001b[0m = \u001b[32m\"abc\"\u001b[0m\n",
       "\u001b[36mres62_1\u001b[0m: \u001b[32mString\u001b[0m = \u001b[32m\"aHello\"\u001b[0m\n",
       "\u001b[36mres62_2\u001b[0m: \u001b[32mString\u001b[0m = \u001b[32m\"adedbc\"\u001b[0m"
      ]
     },
     "metadata": {},
     "output_type": "display_data"
    }
   ],
   "source": [
    "delDel(\"adelbc\")\n",
    "delDel(\"adelHello\")\n",
    "delDel(\"adedbc\")"
   ]
  },
  {
   "cell_type": "raw",
   "metadata": {},
   "source": [
    "Return true if the given string begins with \"mix\", except the 'm' can be anything, so \"pix\", \"9ix\" .. all count.\n",
    "\n",
    "\n",
    "mixStart(\"mix snacks\") → true\n",
    "mixStart(\"pix snacks\") → true\n",
    "mixStart(\"piz snacks\") → false"
   ]
  },
  {
   "cell_type": "code",
   "execution_count": 70,
   "metadata": {},
   "outputs": [
    {
     "data": {
      "text/plain": [
       "defined \u001b[32mfunction \u001b[36mmixStart\u001b[0m"
      ]
     },
     "metadata": {},
     "output_type": "display_data"
    }
   ],
   "source": [
    "def mixStart(str:String)={\n",
    "    str.contains(\"ix\")\n",
    "}"
   ]
  },
  {
   "cell_type": "code",
   "execution_count": 71,
   "metadata": {},
   "outputs": [
    {
     "data": {
      "text/plain": [
       "\u001b[36mres64_0\u001b[0m: \u001b[32mBoolean\u001b[0m = true\n",
       "\u001b[36mres64_1\u001b[0m: \u001b[32mBoolean\u001b[0m = true\n",
       "\u001b[36mres64_2\u001b[0m: \u001b[32mBoolean\u001b[0m = false"
      ]
     },
     "metadata": {},
     "output_type": "display_data"
    }
   ],
   "source": [
    "mixStart(\"mix snacks\")\n",
    "mixStart(\"pix snacks\")\n",
    "mixStart(\"pic snacks\")"
   ]
  },
  {
   "cell_type": "raw",
   "metadata": {},
   "source": [
    "Given a string, return a string made of the first 2 chars (if present), however include first char only if it is 'o' and include the second only if it is 'z', so \"ozymandias\" yields \"oz\".\n",
    "\n",
    "\n",
    "startOz(\"ozymandias\") → \"oz\"\n",
    "startOz(\"bzoo\") → \"z\"\n",
    "startOz(\"oxx\") → \"o\""
   ]
  },
  {
   "cell_type": "code",
   "execution_count": 74,
   "metadata": {},
   "outputs": [
    {
     "data": {
      "text/plain": [
       "defined \u001b[32mfunction \u001b[36mstartOz\u001b[0m"
      ]
     },
     "metadata": {},
     "output_type": "display_data"
    }
   ],
   "source": [
    "def startOz(str:String)={\n",
    "    if(str.substring(0,2) == \"oz\") \"oz\"\n",
    "    else if(str(0) == 'o') \"o\"\n",
    "    else if(str(1) == 'z') \"z\"\n",
    "    else \"\"\n",
    "}"
   ]
  },
  {
   "cell_type": "code",
   "execution_count": 75,
   "metadata": {},
   "outputs": [
    {
     "data": {
      "text/plain": [
       "\u001b[36mres68_0\u001b[0m: \u001b[32mString\u001b[0m = \u001b[32m\"oz\"\u001b[0m\n",
       "\u001b[36mres68_1\u001b[0m: \u001b[32mString\u001b[0m = \u001b[32m\"z\"\u001b[0m\n",
       "\u001b[36mres68_2\u001b[0m: \u001b[32mString\u001b[0m = \u001b[32m\"o\"\u001b[0m"
      ]
     },
     "metadata": {},
     "output_type": "display_data"
    }
   ],
   "source": [
    "startOz(\"ozymandias\")\n",
    "startOz(\"bzoo\")\n",
    "startOz(\"oxx\")"
   ]
  },
  {
   "cell_type": "raw",
   "metadata": {},
   "source": [
    "Given three int values, a b c, return the largest.\n",
    "\n",
    "\n",
    "intMax(1, 2, 3) → 3\n",
    "intMax(1, 3, 2) → 3\n",
    "intMax(3, 2, 1) → 3"
   ]
  },
  {
   "cell_type": "code",
   "execution_count": 77,
   "metadata": {},
   "outputs": [
    {
     "data": {
      "text/plain": [
       "defined \u001b[32mfunction \u001b[36mintMax\u001b[0m"
      ]
     },
     "metadata": {},
     "output_type": "display_data"
    }
   ],
   "source": [
    "def intMax(a:Int,b:Int,c:Int)={\n",
    "    def max(a:Int, b:Int)={\n",
    "        if(a > b) a else b\n",
    "    }\n",
    "    max(max(a,b),c)\n",
    "}"
   ]
  },
  {
   "cell_type": "code",
   "execution_count": 78,
   "metadata": {},
   "outputs": [
    {
     "data": {
      "text/plain": [
       "\u001b[36mres70_0\u001b[0m: \u001b[32mInt\u001b[0m = \u001b[32m3\u001b[0m\n",
       "\u001b[36mres70_1\u001b[0m: \u001b[32mInt\u001b[0m = \u001b[32m3\u001b[0m\n",
       "\u001b[36mres70_2\u001b[0m: \u001b[32mInt\u001b[0m = \u001b[32m3\u001b[0m"
      ]
     },
     "metadata": {},
     "output_type": "display_data"
    }
   ],
   "source": [
    "intMax(1, 2, 3)\n",
    "intMax(1, 3, 2)\n",
    "intMax(3, 2, 1)"
   ]
  },
  {
   "cell_type": "raw",
   "metadata": {},
   "source": [
    "Given 2 int values, return whichever value is nearest to the value 10, or return 0 in the event of a tie. Note that Math.abs(n) returns the absolute value of a number.\n",
    "\n",
    "\n",
    "close10(8, 13) → 8\n",
    "close10(13, 8) → 8\n",
    "close10(13, 7) → 0"
   ]
  },
  {
   "cell_type": "code",
   "execution_count": 83,
   "metadata": {},
   "outputs": [
    {
     "data": {
      "text/plain": [
       "defined \u001b[32mfunction \u001b[36mclose10\u001b[0m"
      ]
     },
     "metadata": {},
     "output_type": "display_data"
    }
   ],
   "source": [
    "def close10(a:Int, b:Int)={\n",
    "    if(math.abs(a-10) == math.abs(b-10)) 0\n",
    "    else if(math.abs(a-10)<math.abs(b-10)) a else b\n",
    "}"
   ]
  },
  {
   "cell_type": "code",
   "execution_count": 84,
   "metadata": {},
   "outputs": [
    {
     "data": {
      "text/plain": [
       "\u001b[36mres76_0\u001b[0m: \u001b[32mInt\u001b[0m = \u001b[32m8\u001b[0m\n",
       "\u001b[36mres76_1\u001b[0m: \u001b[32mInt\u001b[0m = \u001b[32m8\u001b[0m\n",
       "\u001b[36mres76_2\u001b[0m: \u001b[32mInt\u001b[0m = \u001b[32m0\u001b[0m"
      ]
     },
     "metadata": {},
     "output_type": "display_data"
    }
   ],
   "source": [
    "close10(8, 13) \n",
    "close10(13, 8)\n",
    "close10(13, 7)"
   ]
  },
  {
   "cell_type": "raw",
   "metadata": {},
   "source": [
    "Given 2 int values, return true if they are both in the range 30..40 inclusive, or they are both in the range 40..50 inclusive.\n",
    "\n",
    "\n",
    "in3050(30, 31) → true\n",
    "in3050(30, 41) → false\n",
    "in3050(40, 50) → true"
   ]
  },
  {
   "cell_type": "code",
   "execution_count": 85,
   "metadata": {},
   "outputs": [
    {
     "data": {
      "text/plain": [
       "defined \u001b[32mfunction \u001b[36min3050\u001b[0m"
      ]
     },
     "metadata": {},
     "output_type": "display_data"
    }
   ],
   "source": [
    "def in3050(a:Int, b:Int)={\n",
    "    if((30 to 40).contains(a) && (30 to 40).contains(b)) true\n",
    "    else if((40 to 50).contains(a) && (40 to 50).contains(b)) true\n",
    "    else false\n",
    "}"
   ]
  },
  {
   "cell_type": "code",
   "execution_count": 86,
   "metadata": {},
   "outputs": [
    {
     "data": {
      "text/plain": [
       "\u001b[36mres78_0\u001b[0m: \u001b[32mBoolean\u001b[0m = true\n",
       "\u001b[36mres78_1\u001b[0m: \u001b[32mBoolean\u001b[0m = false\n",
       "\u001b[36mres78_2\u001b[0m: \u001b[32mBoolean\u001b[0m = true"
      ]
     },
     "metadata": {},
     "output_type": "display_data"
    }
   ],
   "source": [
    "in3050(30,31)\n",
    "in3050(30,41)\n",
    "in3050(40,50)"
   ]
  },
  {
   "cell_type": "raw",
   "metadata": {},
   "source": [
    "Given 2 positive int values, return the larger value that is in the range 10..20 inclusive, or return 0 if neither is in that range.\n",
    "\n",
    "\n",
    "max1020(11, 19) → 19\n",
    "max1020(19, 11) → 19\n",
    "max1020(11, 9) → 11"
   ]
  },
  {
   "cell_type": "code",
   "execution_count": 90,
   "metadata": {},
   "outputs": [
    {
     "data": {
      "text/plain": [
       "defined \u001b[32mfunction \u001b[36mmax1020\u001b[0m"
      ]
     },
     "metadata": {},
     "output_type": "display_data"
    }
   ],
   "source": [
    "def max1020(a:Int, b:Int)={\n",
    "    def max(a:Int, b:Int)={\n",
    "        if(a > b) a else b\n",
    "    }\n",
    "    if((10 to 20).contains(max(a ,b))) max(a,b) else 0\n",
    "}"
   ]
  },
  {
   "cell_type": "code",
   "execution_count": 91,
   "metadata": {},
   "outputs": [
    {
     "data": {
      "text/plain": [
       "\u001b[36mres80_0\u001b[0m: \u001b[32mInt\u001b[0m = \u001b[32m19\u001b[0m\n",
       "\u001b[36mres80_1\u001b[0m: \u001b[32mInt\u001b[0m = \u001b[32m19\u001b[0m\n",
       "\u001b[36mres80_2\u001b[0m: \u001b[32mInt\u001b[0m = \u001b[32m11\u001b[0m"
      ]
     },
     "metadata": {},
     "output_type": "display_data"
    }
   ],
   "source": [
    "max1020(11, 19)\n",
    "max1020(19, 11)\n",
    "max1020(11, 9)"
   ]
  },
  {
   "cell_type": "raw",
   "metadata": {},
   "source": [
    "Return true if the given string contains between 1 and 3 'e' chars.\n",
    "\n",
    "\n",
    "stringE(\"Hello\") → true\n",
    "stringE(\"Heelle\") → true\n",
    "stringE(\"Heelele\") → false"
   ]
  },
  {
   "cell_type": "code",
   "execution_count": 94,
   "metadata": {},
   "outputs": [
    {
     "data": {
      "text/plain": [
       "defined \u001b[32mfunction \u001b[36mstringE\u001b[0m"
      ]
     },
     "metadata": {},
     "output_type": "display_data"
    }
   ],
   "source": [
    "def stringE(str:String)={\n",
    "    (1 to 3).contains(str.count(_ == 'e')) \n",
    "}"
   ]
  },
  {
   "cell_type": "code",
   "execution_count": 95,
   "metadata": {},
   "outputs": [
    {
     "data": {
      "text/plain": [
       "\u001b[36mres84_0\u001b[0m: \u001b[32mBoolean\u001b[0m = true\n",
       "\u001b[36mres84_1\u001b[0m: \u001b[32mBoolean\u001b[0m = true\n",
       "\u001b[36mres84_2\u001b[0m: \u001b[32mBoolean\u001b[0m = false"
      ]
     },
     "metadata": {},
     "output_type": "display_data"
    }
   ],
   "source": [
    "stringE(\"Hello\")\n",
    "stringE(\"Heelle\")\n",
    "stringE(\"Heelele\")"
   ]
  },
  {
   "cell_type": "raw",
   "metadata": {},
   "source": [
    "Given two non-negative int values, return true if they have the same last digit, such as with 27 and 57. Note that the % \"mod\" operator computes remainders, so 17 % 10 is 7.\n",
    "\n",
    "\n",
    "lastDigit(7, 17) → true\n",
    "lastDigit(6, 17) → false\n",
    "lastDigit(3, 113) → true"
   ]
  },
  {
   "cell_type": "code",
   "execution_count": 96,
   "metadata": {},
   "outputs": [
    {
     "data": {
      "text/plain": [
       "defined \u001b[32mfunction \u001b[36mlastDigit\u001b[0m"
      ]
     },
     "metadata": {},
     "output_type": "display_data"
    }
   ],
   "source": [
    "def lastDigit(n1:Int, n2:Int)={\n",
    "    n1 % 10 == n2 % 10\n",
    "}"
   ]
  },
  {
   "cell_type": "code",
   "execution_count": 97,
   "metadata": {},
   "outputs": [
    {
     "data": {
      "text/plain": [
       "\u001b[36mres86_0\u001b[0m: \u001b[32mBoolean\u001b[0m = true\n",
       "\u001b[36mres86_1\u001b[0m: \u001b[32mBoolean\u001b[0m = false\n",
       "\u001b[36mres86_2\u001b[0m: \u001b[32mBoolean\u001b[0m = true"
      ]
     },
     "metadata": {},
     "output_type": "display_data"
    }
   ],
   "source": [
    "lastDigit(7, 17)\n",
    "lastDigit(6, 17)\n",
    "lastDigit(3, 113)"
   ]
  },
  {
   "cell_type": "raw",
   "metadata": {},
   "source": [
    "Given a string, return a new string where the last 3 chars are now in upper case. If the string has less than 3 chars, uppercase whatever is there. Note that str.toUpperCase() returns the uppercase version of a string.\n",
    "\n",
    "\n",
    "endUp(\"Hello\") → \"HeLLO\"\n",
    "endUp(\"hi there\") → \"hi thERE\"\n",
    "endUp(\"hi\") → \"HI\""
   ]
  },
  {
   "cell_type": "code",
   "execution_count": 99,
   "metadata": {},
   "outputs": [
    {
     "data": {
      "text/plain": [
       "defined \u001b[32mfunction \u001b[36mendUp\u001b[0m"
      ]
     },
     "metadata": {},
     "output_type": "display_data"
    }
   ],
   "source": [
    "def endUp(str:String)={\n",
    "    if(str.length < 3) str.toUpperCase\n",
    "    else str.substring(0,str.length-3)+str.substring(str.length-3).toUpperCase\n",
    "}"
   ]
  },
  {
   "cell_type": "code",
   "execution_count": 100,
   "metadata": {},
   "outputs": [
    {
     "data": {
      "text/plain": [
       "\u001b[36mres88_0\u001b[0m: \u001b[32mString\u001b[0m = \u001b[32m\"HeLLO\"\u001b[0m\n",
       "\u001b[36mres88_1\u001b[0m: \u001b[32mString\u001b[0m = \u001b[32m\"hi thERE\"\u001b[0m\n",
       "\u001b[36mres88_2\u001b[0m: \u001b[32mString\u001b[0m = \u001b[32m\"HI\"\u001b[0m"
      ]
     },
     "metadata": {},
     "output_type": "display_data"
    }
   ],
   "source": [
    "endUp(\"Hello\")\n",
    "endUp(\"hi there\")\n",
    "endUp(\"hi\")"
   ]
  },
  {
   "cell_type": "raw",
   "metadata": {},
   "source": [
    "Given a non-empty string and an int N, return the string made starting with char 0, and then every Nth char of the string. So if N is 3, use char 0, 3, 6, ... and so on. N is 1 or more.\n",
    "\n",
    "\n",
    "everyNth(\"Miracle\", 2) → \"Mrce\"\n",
    "everyNth(\"abcdefg\", 2) → \"aceg\"\n",
    "everyNth(\"abcdefg\", 3) → \"adg\""
   ]
  },
  {
   "cell_type": "code",
   "execution_count": 104,
   "metadata": {},
   "outputs": [
    {
     "data": {
      "text/plain": [
       "defined \u001b[32mfunction \u001b[36meveryNth\u001b[0m"
      ]
     },
     "metadata": {},
     "output_type": "display_data"
    }
   ],
   "source": [
    "def everyNth(str:String,n:Int)={\n",
    "   // (for(i<- 0 to str.length by n)yield str(i)).mkString\n",
    "    str.toList.zipWithIndex.filter(_._2 % n == 0).map(_._1).mkString\n",
    "}"
   ]
  },
  {
   "cell_type": "code",
   "execution_count": 105,
   "metadata": {},
   "outputs": [
    {
     "data": {
      "text/plain": [
       "\u001b[36mres92_0\u001b[0m: \u001b[32mString\u001b[0m = \u001b[32m\"Mrce\"\u001b[0m\n",
       "\u001b[36mres92_1\u001b[0m: \u001b[32mString\u001b[0m = \u001b[32m\"aceg\"\u001b[0m\n",
       "\u001b[36mres92_2\u001b[0m: \u001b[32mString\u001b[0m = \u001b[32m\"adg\"\u001b[0m"
      ]
     },
     "metadata": {},
     "output_type": "display_data"
    }
   ],
   "source": [
    "everyNth(\"Miracle\", 2)\n",
    "everyNth(\"abcdefg\", 2)\n",
    "everyNth(\"abcdefg\", 3)"
   ]
  },
  {
   "cell_type": "code",
   "execution_count": null,
   "metadata": {
    "collapsed": true
   },
   "outputs": [],
   "source": []
  }
 ],
 "metadata": {
  "kernelspec": {
   "display_name": "Scala 2.11",
   "language": "scala211",
   "name": "scala211"
  },
  "language_info": {
   "codemirror_mode": "text/x-scala",
   "file_extension": ".scala",
   "mimetype": "text/x-scala",
   "name": "scala211",
   "pygments_lexer": "scala",
   "version": "2.11.6"
  }
 },
 "nbformat": 4,
 "nbformat_minor": 2
}
